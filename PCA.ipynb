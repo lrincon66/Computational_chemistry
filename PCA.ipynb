{
 "cells": [
  {
   "cell_type": "code",
   "execution_count": 55,
   "id": "134915f9",
   "metadata": {},
   "outputs": [],
   "source": [
    "import numpy as np"
   ]
  },
  {
   "cell_type": "code",
   "execution_count": 56,
   "id": "65cfda94",
   "metadata": {},
   "outputs": [
    {
     "name": "stdout",
     "output_type": "stream",
     "text": [
      "properties :  5\n",
      "compounds :  10\n"
     ]
    }
   ],
   "source": [
    "# Creating Sample Dataset \n",
    "# Linear Alkanes\n",
    "x = [\n",
    "    [1,2,3,4,5,6,7,8,9,10],                           # number of carbons\n",
    "    [-183,-183,-188,-138,-130,-95,-91,-57,-53,-30],   # Melting Point\n",
    "    [-162,-89,-42,-1,36,69,98,126,151,174],           # Boiling Point\n",
    "    [-135,-135,-104,-60,-49,-20,-7,12,31,46],         # Flash Point\n",
    "    [595,515,470,365,260,230,220,205,205,200]         # Autoignition Temperature \n",
    "]\n",
    "x = np.array(x,dtype=float)\n",
    "x_name = ['Number of Carbons','Melting Point','Boiling Point','Flash Point','Autoignition Temperature']\n",
    "properties = x.shape[0]\n",
    "print('properties : ',properties)\n",
    "compounds = x.shape[1]\n",
    "print('compounds : ',compounds)"
   ]
  },
  {
   "cell_type": "code",
   "execution_count": 57,
   "id": "559b7d03",
   "metadata": {},
   "outputs": [
    {
     "name": "stdout",
     "output_type": "stream",
     "text": [
      "[[-1.5666989  -1.21854359 -0.87038828 -0.52223297 -0.17407766  0.17407766\n",
      "   0.52223297  0.87038828  1.21854359  1.5666989 ]\n",
      " [-1.23008541 -1.23008541 -1.32026763 -0.41844548 -0.27415393  0.35712157\n",
      "   0.42926734  1.04250641  1.11465218  1.52949037]\n",
      " [-1.9089359  -1.2051363  -0.75200505 -0.35672035  0.          0.31815598\n",
      "   0.59774761  0.86769814  1.1087254   1.33047048]\n",
      " [-1.48354674 -1.48354674 -0.98849885 -0.28585023 -0.11018808  0.35292124\n",
      "   0.56052196  0.86393841  1.16735486  1.40689416]\n",
      " [ 1.89714753  1.33188942  1.01393173  0.27203047 -0.4698708  -0.6818426\n",
      "  -0.75249986 -0.85848575 -0.85848575 -0.89381439]]\n"
     ]
    }
   ],
   "source": [
    "# Step 1: Standardizing the Data\n",
    "for i in range(properties):\n",
    "    mean= np.mean(x[i,:])\n",
    "    std = np.std(x[i,:])\n",
    "    x[i] = (x[i]-mean)/std\n",
    "print(x)"
   ]
  },
  {
   "cell_type": "code",
   "execution_count": 58,
   "id": "f9772329",
   "metadata": {},
   "outputs": [
    {
     "name": "stdout",
     "output_type": "stream",
     "text": [
      "[[ 1.11111111  1.08774608  1.09536944  1.09929443 -1.02703755]\n",
      " [ 1.08774608  1.11111111  1.05758561  1.09166881 -1.0090178 ]\n",
      " [ 1.09536944  1.05758561  1.11111111  1.09203066 -1.07098048]\n",
      " [ 1.09929443  1.09166881  1.09203066  1.11111111 -1.05360571]\n",
      " [-1.02703755 -1.0090178  -1.07098048 -1.05360571  1.11111111]]\n"
     ]
    }
   ],
   "source": [
    "# Step 2: Calculate Covariance Matrix\n",
    "cov = np.cov(x)\n",
    "print(cov)"
   ]
  },
  {
   "cell_type": "code",
   "execution_count": 53,
   "id": "02549e4a",
   "metadata": {},
   "outputs": [
    {
     "name": "stdout",
     "output_type": "stream",
     "text": [
      "[5.38561857e+00 1.22232307e-01 3.77252314e-02 1.90720103e-03\n",
      " 8.07225085e-03]\n",
      "[[-0.45021924  0.30164205 -0.43610543 -0.69786008 -0.1706402 ]\n",
      " [-0.44492949  0.4993078   0.59077635  0.22880652 -0.38905056]\n",
      " [-0.45068956 -0.17178313 -0.57489075  0.62694635 -0.20930448]\n",
      " [-0.45242771  0.13640078  0.08673703  0.08314994  0.8730789 ]\n",
      " [ 0.43763966  0.78204167 -0.35038931  0.24629909  0.1159588 ]]\n"
     ]
    }
   ],
   "source": [
    "# Step 3: Find the Principal Components\n",
    "eigenval, eigenvec = np.linalg.eig(cov)\n",
    "print(eigenval)\n",
    "print(eigenvec)"
   ]
  },
  {
   "cell_type": "code",
   "execution_count": 54,
   "id": "916d2d49",
   "metadata": {},
   "outputs": [],
   "source": [
    "# percentage of variance accounted for by each component\n",
    "var = 100*(eigenval/np.sum(eigenval))\n",
    "print(var)"
   ]
  },
  {
   "cell_type": "code",
   "execution_count": 59,
   "id": "0fedb725",
   "metadata": {},
   "outputs": [
    {
     "name": "stdout",
     "output_type": "stream",
     "text": [
      "[[ 1.87838823  1.51116694  0.83838718  0.41753039  0.15275146 -0.23933967\n",
      "  -0.6290744  -0.9122256  -1.36406515 -1.65351939]\n",
      " [-2.12240638 -1.6416088  -1.33687102 -0.35855619  0.09815683  0.63484226\n",
      "   0.75612641  1.17755482  1.27049007  1.52227198]\n",
      " [ 0.68764666  0.24443987  0.21943917  0.27617209  0.15481406  0.04126802\n",
      "  -0.14382661 -0.34886361 -0.46650551 -0.66458414]\n",
      " [ 1.90846062  1.31847606  0.95152434  0.36199114 -0.37803367 -0.56840699\n",
      "  -0.73625779 -0.8540169  -0.95555622 -1.04818057]\n",
      " [-1.12416214 -1.28394608 -1.27581825 -0.46966099 -0.37220797  0.25184731\n",
      "   0.4056075   1.00540599  1.20447138  1.65846324]]\n"
     ]
    }
   ],
   "source": [
    "# Step 4: Pick the Top Directions & Transform Data\n",
    "pc= np.zeros((properties,compounds))\n",
    "for i in range(properties):\n",
    "    for j in range(compounds):\n",
    "        for k in range(properties):\n",
    "            pc[i,j] = pc[i,j] + eigenvec[i,k]*x[k,j]\n",
    "print(pc)"
   ]
  },
  {
   "cell_type": "code",
   "execution_count": null,
   "id": "897c07cc",
   "metadata": {},
   "outputs": [],
   "source": []
  }
 ],
 "metadata": {
  "kernelspec": {
   "display_name": "Python 3 (ipykernel)",
   "language": "python",
   "name": "python3"
  },
  "language_info": {
   "codemirror_mode": {
    "name": "ipython",
    "version": 3
   },
   "file_extension": ".py",
   "mimetype": "text/x-python",
   "name": "python",
   "nbconvert_exporter": "python",
   "pygments_lexer": "ipython3",
   "version": "3.12.3"
  }
 },
 "nbformat": 4,
 "nbformat_minor": 5
}
