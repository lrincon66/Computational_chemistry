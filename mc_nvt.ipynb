{
  "nbformat": 4,
  "nbformat_minor": 0,
  "metadata": {
    "colab": {
      "provenance": []
    },
    "kernelspec": {
      "name": "python3",
      "display_name": "Python 3"
    },
    "language_info": {
      "name": "python"
    }
  },
  "cells": [
    {
      "cell_type": "code",
      "execution_count": null,
      "metadata": {
        "id": "Fyqrh4_GegUH"
      },
      "outputs": [],
      "source": [
        "import numpy as np\n",
        "import random\n",
        "import matplotlib.pyplot as plt"
      ]
    },
    {
      "cell_type": "code",
      "source": [
        "def lj(r):\n",
        "  ri = 1.0/r\n",
        "  return 4.0*(np.power(ri,12)-np.power(ri,6))"
      ],
      "metadata": {
        "id": "-z2jW8osfshF"
      },
      "execution_count": null,
      "outputs": []
    },
    {
      "cell_type": "code",
      "source": [
        "def V_lj(x):\n",
        "  N = int(len(x)/3)\n",
        "  ene = 0.0\n",
        "  for i in range(0,N-2):\n",
        "    for j in range(i+1,N-1):\n",
        "       dx = x[3*i]-x[3*j]\n",
        "       dy = x[3*i+1]-x[3*j+1]\n",
        "       dz = x[3*i+2]-x[3*j+2]\n",
        "       r = np.sqrt(np.power(dx,2)+np.power(dy,2)+np.power(dz,2))\n",
        "       ene = ene + lj(r)\n",
        "  return ene"
      ],
      "metadata": {
        "id": "JeUGq5ZognAk"
      },
      "execution_count": null,
      "outputs": []
    },
    {
      "cell_type": "code",
      "source": [
        "# inicializacion\n",
        "N = np.power(5,3)\n",
        "rho = 0.5\n",
        "vol = N/rho\n",
        "lado = np.power(vol,1/3)\n",
        "temp = 2.0\n",
        "beta = 1.0/temp\n",
        "nmc = 1000\n",
        "delx = 0.37\n",
        "x = np.zeros(3*N)\n",
        "random.seed()\n",
        "l = -1\n",
        "for i in range(5):\n",
        "  for j in range(5):\n",
        "    for k in range(5):\n",
        "      l = l + 1\n",
        "      x[3*l] = (i/5)*lado\n",
        "      x[3*l+1] = (j/5)*lado\n",
        "      x[3*l+2] = (k/5)*lado\n",
        "uo = V_lj(x)\n",
        "print(uo)"
      ],
      "metadata": {
        "colab": {
          "base_uri": "https://localhost:8080/"
        },
        "id": "EY6YQetWydcS",
        "outputId": "d052ef48-c643-46d7-ba30-8aab979efab0"
      },
      "execution_count": null,
      "outputs": [
        {
          "output_type": "stream",
          "name": "stdout",
          "text": [
            "-304.46707290249384\n"
          ]
        }
      ]
    },
    {
      "cell_type": "code",
      "source": [
        "acc = 0\n",
        "meanu = 0.0\n",
        "meanu2 = 0.0\n",
        "# main loop\n",
        "for i in range(nmc):\n",
        "  o = random.randint(0,N-1)\n",
        "  xoo = x[3*o]\n",
        "  yoo = x[3*o+1]\n",
        "  zoo = x[3*o+2]\n",
        "  x[3*o] = x[3*o] + 2.0*delx*(random.random()-0.5)\n",
        "  if x[3*o]>lado:\n",
        "    x[3*o] = x[3*o]-lado\n",
        "  if x[3*o]<0.0:\n",
        "    x[3*o] = x[3*o]+lado\n",
        "  x[3*o+1] = x[3*o+1] + 2.0*delx*(random.random()-0.5)\n",
        "  if x[3*o+1]>lado:\n",
        "    x[3*o+1] = x[3*o+1]-lado\n",
        "  if x[3*o+1]<0.0:\n",
        "    x[3*o+1] = x[3*o+1]+lado\n",
        "  x[3*o+2] = x[3*o+2] + 2.0*delx*(random.random()-0.5)\n",
        "  if x[3*o+2]>lado:\n",
        "    x[3*o+2] = x[3*o+2]-lado\n",
        "  if x[3*o+2]<0.0:\n",
        "    x[3*o+2] = x[3*o+2]+lado\n",
        "  un = V_lj(x)\n",
        "  prob = np.exp(-beta*(un-uo))\n",
        "  if prob>=random.random():\n",
        "      acc= acc+1\n",
        "      uo = un\n",
        "  else:\n",
        "      x[3*o] = xoo\n",
        "      x[3*o+1] = yoo\n",
        "      x[3*o+2] = zoo\n",
        "  meanu = meanu + uo\n",
        "  meanu2 = meanu2 + uo*uo\n",
        "print(acc/nmc,meanu/nmc,np.sqrt((meanu2/nmc)-np.power(meanu/nmc,2)))"
      ],
      "metadata": {
        "id": "iGkxOj46mYAV",
        "colab": {
          "base_uri": "https://localhost:8080/"
        },
        "outputId": "6e18a9db-7490-4086-d5ee-50a7d19aa8d8"
      },
      "execution_count": null,
      "outputs": [
        {
          "output_type": "stream",
          "name": "stdout",
          "text": [
            "0.462 -249.6683313008823 16.387999311818657\n"
          ]
        }
      ]
    }
  ]
}